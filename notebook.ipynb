{
 "cells": [
  {
   "cell_type": "markdown",
   "metadata": {},
   "source": [
    "# Analysis of titanic survival stats\n",
    "\n",
    "This is an expansion of the introductory exercise on Kaggle about [predicting the survival of a passenger in titanic](https://www.kaggle.com/c/titanic).\n",
    "\n",
    "In this notebook I will do my best to apply and consolidate all the knowledge I've learned from Udacity's nanodegree course on ML & some other things that I've picked along the ride.\n",
    "\n",
    "If my submission on Kaggle becomes a little bit better than my original one I plan to write a dev-friendly tutorial on how to get started with ML, more speficially predictive learning & ML."
   ]
  },
  {
   "cell_type": "code",
   "execution_count": null,
   "metadata": {
    "collapsed": true
   },
   "outputs": [],
   "source": [
    "# loading datasets\n"
   ]
  }
 ],
 "metadata": {
  "anaconda-cloud": {},
  "kernelspec": {
   "display_name": "Python [conda root]",
   "language": "python",
   "name": "conda-root-py"
  },
  "language_info": {
   "codemirror_mode": {
    "name": "ipython",
    "version": 2
   },
   "file_extension": ".py",
   "mimetype": "text/x-python",
   "name": "python",
   "nbconvert_exporter": "python",
   "pygments_lexer": "ipython2",
   "version": "2.7.12"
  }
 },
 "nbformat": 4,
 "nbformat_minor": 1
}
