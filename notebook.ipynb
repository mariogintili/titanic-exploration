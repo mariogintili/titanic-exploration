{
 "cells": [
  {
   "cell_type": "markdown",
   "metadata": {},
   "source": [
    "# Analysis of titanic survival stats\n",
    "\n",
    "This is an expansion of the introductory exercise on Kaggle about [predicting the survival of a passenger in titanic](https://www.kaggle.com/c/titanic).\n",
    "\n",
    "In this notebook I will do my best to apply and consolidate all the knowledge I've learned from Udacity's nanodegree course on ML & some other things that I've picked along the ride.\n",
    "\n",
    "If my submission on Kaggle becomes a little bit better than my original one I plan to write a dev-friendly tutorial on how to get started with ML, more speficially predictive learning & ML."
   ]
  },
  {
   "cell_type": "code",
   "execution_count": 28,
   "metadata": {
    "collapsed": false
   },
   "outputs": [
    {
     "name": "stdout",
     "output_type": "stream",
     "text": [
      "The possible list of features to look at are\n",
      "['PassengerId', 'Pclass', 'Name', 'Sex', 'Age', 'SibSp', 'Parch', 'Ticket', 'Fare', 'Cabin', 'Embarked']\n"
     ]
    }
   ],
   "source": [
    "import numpy as np\n",
    "import pandas as pd\n",
    "import sklearn as sk\n",
    "import matplotlib.pyplot as plt\n",
    "import matplotlib.mlab as mlab\n",
    "import scipy\n",
    "\n",
    "# ensure plots are drawn to this document\n",
    "%matplotlib inline\n",
    "\n",
    "train     = pd.read_csv(\"train.csv\")\n",
    "test      = pd.read_csv(\"test.csv\")\n",
    "\n",
    "survived  = train[\"Survived\"]\n",
    "features  = train.drop(\"Survived\", axis = 1)\n",
    "print(\"The possible list of features to look at are\")\n",
    "print(list(features.columns.values))"
   ]
  },
  {
   "cell_type": "markdown",
   "metadata": {},
   "source": [
    "As we can see above I'm importing a couple of libraries, these are:\n",
    "\n",
    "- [numpy](http://www.numpy.org/): A scientific computing library.\n",
    "- [scikit-learn](http://scikit-learn.org/stable/): A library for machine learning, does not provide a fixed workflow but does give you all the primitives you really need\n",
    "- [pandas](http://pandas.pydata.org/): A data analysis lib, includes plotting.\n",
    "\n",
    "Then I'm just loading the data provided from the Kaggle exercises, dropping my \"target\" from the [Pandas dataframe]() and printing a list of the features that are available to me, from the ones listed above I think for my model I'd just like to keep the following:\n",
    "\n",
    "- Pclass, socio-economic status\n",
    "- Age\n",
    "- Sex\n",
    "- SibSp, number of siblings/spouses abroad\n",
    "- Parch, number of parents/children abroad"
   ]
  },
  {
   "cell_type": "code",
   "execution_count": 29,
   "metadata": {
    "collapsed": false
   },
   "outputs": [
    {
     "name": "stdout",
     "output_type": "stream",
     "text": [
      "The new list of features is\n",
      "['Pclass', 'Sex', 'Age', 'SibSp', 'Parch']\n"
     ]
    }
   ],
   "source": [
    "features = train.drop([\"Name\", \"Ticket\", \"Fare\", \"Cabin\", \"Embarked\", \"PassengerId\", \"Survived\"], axis = 1)\n",
    "\n",
    "print(\"The new list of features is\")\n",
    "\n",
    "relevant_features = list(features.columns.values)\n",
    "print(relevant_features)"
   ]
  },
  {
   "cell_type": "markdown",
   "metadata": {},
   "source": [
    "Digging deeper into this we now need to \"normalize\" the dataset into values that are friendlier with the libraries that we're using.\n",
    "\n",
    "For example, some values are expressed as strings that we should normalize as numbers. Think of it as turning a label for a value into an [enum type](https://en.wikipedia.org/wiki/Enumerated_type)"
   ]
  },
  {
   "cell_type": "code",
   "execution_count": 30,
   "metadata": {
    "collapsed": false
   },
   "outputs": [
    {
     "name": "stdout",
     "output_type": "stream",
     "text": [
      "Small subset with new quantified labels\n",
      "   Pclass  Sex   Age  SibSp  Parch\n",
      "0       3    1  22.0      1      0\n",
      "1       1    0  38.0      1      0\n",
      "2       3    0  26.0      0      0\n",
      "3       1    0  35.0      1      0\n",
      "4       3    1  35.0      0      0\n",
      "5       3    1   0.0      0      0\n",
      "6       1    1  54.0      0      0\n",
      "7       3    1   2.0      3      1\n",
      "8       3    0  27.0      0      2\n",
      "9       2    0  14.0      1      0\n"
     ]
    }
   ],
   "source": [
    "features[\"Sex\"] = features[\"Sex\"].map({ 'female': 0, 'male': 1 })\n",
    "features[\"Age\"] = features[\"Age\"].fillna(0)\n",
    "\n",
    "print(\"Small subset with new quantified labels\")\n",
    "print(features.head(10))"
   ]
  },
  {
   "cell_type": "code",
   "execution_count": 31,
   "metadata": {
    "collapsed": false
   },
   "outputs": [
    {
     "name": "stdout",
     "output_type": "stream",
     "text": [
      "To get a sense of the shape of our data we can look at central measures of tendency\n"
     ]
    },
    {
     "data": {
      "text/html": [
       "<div>\n",
       "<table border=\"1\" class=\"dataframe\">\n",
       "  <thead>\n",
       "    <tr style=\"text-align: right;\">\n",
       "      <th></th>\n",
       "      <th>Pclass</th>\n",
       "      <th>Sex</th>\n",
       "      <th>Age</th>\n",
       "      <th>SibSp</th>\n",
       "      <th>Parch</th>\n",
       "    </tr>\n",
       "  </thead>\n",
       "  <tbody>\n",
       "    <tr>\n",
       "      <th>count</th>\n",
       "      <td>891.000000</td>\n",
       "      <td>891.000000</td>\n",
       "      <td>891.000000</td>\n",
       "      <td>891.000000</td>\n",
       "      <td>891.000000</td>\n",
       "    </tr>\n",
       "    <tr>\n",
       "      <th>mean</th>\n",
       "      <td>2.308642</td>\n",
       "      <td>0.647587</td>\n",
       "      <td>23.799293</td>\n",
       "      <td>0.523008</td>\n",
       "      <td>0.381594</td>\n",
       "    </tr>\n",
       "    <tr>\n",
       "      <th>std</th>\n",
       "      <td>0.836071</td>\n",
       "      <td>0.477990</td>\n",
       "      <td>17.596074</td>\n",
       "      <td>1.102743</td>\n",
       "      <td>0.806057</td>\n",
       "    </tr>\n",
       "    <tr>\n",
       "      <th>min</th>\n",
       "      <td>1.000000</td>\n",
       "      <td>0.000000</td>\n",
       "      <td>0.000000</td>\n",
       "      <td>0.000000</td>\n",
       "      <td>0.000000</td>\n",
       "    </tr>\n",
       "    <tr>\n",
       "      <th>25%</th>\n",
       "      <td>2.000000</td>\n",
       "      <td>0.000000</td>\n",
       "      <td>6.000000</td>\n",
       "      <td>0.000000</td>\n",
       "      <td>0.000000</td>\n",
       "    </tr>\n",
       "    <tr>\n",
       "      <th>50%</th>\n",
       "      <td>3.000000</td>\n",
       "      <td>1.000000</td>\n",
       "      <td>24.000000</td>\n",
       "      <td>0.000000</td>\n",
       "      <td>0.000000</td>\n",
       "    </tr>\n",
       "    <tr>\n",
       "      <th>75%</th>\n",
       "      <td>3.000000</td>\n",
       "      <td>1.000000</td>\n",
       "      <td>35.000000</td>\n",
       "      <td>1.000000</td>\n",
       "      <td>0.000000</td>\n",
       "    </tr>\n",
       "    <tr>\n",
       "      <th>max</th>\n",
       "      <td>3.000000</td>\n",
       "      <td>1.000000</td>\n",
       "      <td>80.000000</td>\n",
       "      <td>8.000000</td>\n",
       "      <td>6.000000</td>\n",
       "    </tr>\n",
       "  </tbody>\n",
       "</table>\n",
       "</div>"
      ],
      "text/plain": [
       "           Pclass         Sex         Age       SibSp       Parch\n",
       "count  891.000000  891.000000  891.000000  891.000000  891.000000\n",
       "mean     2.308642    0.647587   23.799293    0.523008    0.381594\n",
       "std      0.836071    0.477990   17.596074    1.102743    0.806057\n",
       "min      1.000000    0.000000    0.000000    0.000000    0.000000\n",
       "25%      2.000000    0.000000    6.000000    0.000000    0.000000\n",
       "50%      3.000000    1.000000   24.000000    0.000000    0.000000\n",
       "75%      3.000000    1.000000   35.000000    1.000000    0.000000\n",
       "max      3.000000    1.000000   80.000000    8.000000    6.000000"
      ]
     },
     "execution_count": 31,
     "metadata": {},
     "output_type": "execute_result"
    }
   ],
   "source": [
    "print(\"To get a sense of the shape of our data we can look at central measures of tendency\")\n",
    "\n",
    "features.describe()"
   ]
  },
  {
   "cell_type": "markdown",
   "metadata": {},
   "source": [
    "Now bear in mind I only drew **all** features here out of the sake of doing so. Looking at things like the `max` value for `Sex` does not yield any valuable observartions.\n",
    "\n",
    "Now it's time to try and correlate these features individually to our target. I'm going to try and do this by inspecting correlations and drawing a trendline.\n",
    "\n",
    "**NOTE** The snippet of code you're about to see was something a reviewer from one of my courses showed me as a means of looking at correlations. I'm not very familiar with the APIs that matplotlib,numpy, etc have to offer but would be very happily open to recommendations. \n",
    "\n",
    "So now I'm going to draw a histogram correlating Age and survival"
   ]
  },
  {
   "cell_type": "code",
   "execution_count": 32,
   "metadata": {
    "collapsed": false
   },
   "outputs": [
    {
     "data": {
      "text/plain": [
       "<matplotlib.legend.Legend at 0x118199d50>"
      ]
     },
     "execution_count": 32,
     "metadata": {},
     "output_type": "execute_result"
    },
    {
     "data": {
      "image/png": "[encoded data removed]",
      "text/plain": [
       "<matplotlib.figure.Figure at 0x117b7a850>"
      ]
     },
     "metadata": {},
     "output_type": "display_data"
    }
   ],
   "source": [
    "age_and_survival = train[[\"Age\", \"Survived\"]]\n",
    "age_and_survival = age_and_survival[~np.isnan(age_and_survival[\"Age\"])]\n",
    "age_and_survival[\"Age\"].fillna(0)\n",
    "\n",
    "\n",
    "min_age         = np.min(age_and_survival[\"Age\"])\n",
    "max_age         = np.max(age_and_survival[\"Age\"])\n",
    "age_value_range = max_age - min_age\n",
    "bins            = np.arange(0, age_and_survival[\"Age\"].max() + 10, 10)\n",
    "\n",
    "nonsurv_vals    = age_and_survival[age_and_survival['Survived'] == 0][\"Age\"].reset_index(drop = True)\n",
    "surv_vals       = age_and_survival[age_and_survival['Survived'] == 1][\"Age\"].reset_index(drop = True)\n",
    "plt.figure(figsize=(8,6))\n",
    "\n",
    "plt.hist(nonsurv_vals, bins = bins, alpha = 0.6, color = 'red', label = 'Did not survive')\n",
    "plt.hist(surv_vals, bins = bins, alpha = 0.6, color = 'green', label = 'Survived')\n",
    "\n",
    "# Add legend to plot\n",
    "plt.xlim(0, bins.max())\n",
    "plt.legend(framealpha = 0.8)"
   ]
  },
  {
   "cell_type": "markdown",
   "metadata": {},
   "source": [
    "As we can see here, most of the people aged 0-20 years survived. Whilst your odds got a little bit worse after that, specially if you were in that 70+ year old range."
   ]
  },
  {
   "cell_type": "markdown",
   "metadata": {},
   "source": [
    "# Fitting a model, naively\n",
    "\n",
    "Our data is already split into test/train - I'm going to now feed it to a random forest(set with a random depth) and test the accuracy of it using [R-squared](https://en.wikipedia.org/wiki/Coefficient_of_determination)"
   ]
  },
  {
   "cell_type": "code",
   "execution_count": 33,
   "metadata": {
    "collapsed": false
   },
   "outputs": [
    {
     "name": "stdout",
     "output_type": "stream",
     "text": [
      "Data has been split!\n"
     ]
    }
   ],
   "source": [
    "from sklearn.cross_validation import train_test_split\n",
    "\n",
    "x_train, x_test, y_train, y_test = train_test_split(features, survived, test_size=0.2, random_state=6)\n",
    "\n",
    "print(\"Data has been split!\")"
   ]
  },
  {
   "cell_type": "markdown",
   "metadata": {},
   "source": [
    "**What exactly is a train test split?** [From the sklearn docs](http://scikit-learn.org/stable/modules/generated/sklearn.model_selection.train_test_split.html)\n",
    "\n",
    "It's just an utility function to split a set into training and test. Which is what I did to my `train` dataset.\n",
    "\n",
    "The reason why I did this is because the actual `test` dataset is something that we're meant to benchmark against, and I wanted to be extra sure that the model at hand would never see that data first!"
   ]
  },
  {
   "cell_type": "code",
   "execution_count": 34,
   "metadata": {
    "collapsed": false
   },
   "outputs": [
    {
     "name": "stdout",
     "output_type": "stream",
     "text": [
      "The best depth for an optimal model is\n",
      "5\n"
     ]
    }
   ],
   "source": [
    "from sklearn.tree import DecisionTreeClassifier\n",
    "from sklearn.metrics import r2_score\n",
    "from sklearn.metrics import make_scorer\n",
    "from sklearn.grid_search import GridSearchCV\n",
    "from sklearn.cross_validation import ShuffleSplit\n",
    "\n",
    "\n",
    "regressor = DecisionTreeClassifier()\n",
    "params    = { 'max_depth': range(1, 11) }\n",
    "scorer    = make_scorer(r2_score)\n",
    "\n",
    "# TODO use K-fold cross validation here\n",
    "cv_sets   = ShuffleSplit(x_train.shape[0], n_iter = 10, test_size = 0.20, random_state = 10)\n",
    "\n",
    "grid      = GridSearchCV(regressor, params, scoring=scorer, cv=cv_sets)\n",
    "\n",
    "grid      = grid.fit(x_train, y_train)\n",
    "\n",
    "estimator = grid.best_estimator_\n",
    "\n",
    "print(\"The best depth for an optimal model is\")\n",
    "print(estimator.get_params()['max_depth'])"
   ]
  },
  {
   "cell_type": "markdown",
   "metadata": {},
   "source": [
    "Now I'm going to do the same quantification that I did to my train set to the test set"
   ]
  },
  {
   "cell_type": "code",
   "execution_count": 35,
   "metadata": {
    "collapsed": false
   },
   "outputs": [
    {
     "name": "stdout",
     "output_type": "stream",
     "text": [
      "   PassengerId  Pclass                                          Name  Sex  \\\n",
      "0          892       3                              Kelly, Mr. James    1   \n",
      "1          893       3              Wilkes, Mrs. James (Ellen Needs)    0   \n",
      "2          894       2                     Myles, Mr. Thomas Francis    1   \n",
      "3          895       3                              Wirz, Mr. Albert    1   \n",
      "4          896       3  Hirvonen, Mrs. Alexander (Helga E Lindqvist)    0   \n",
      "5          897       3                    Svensson, Mr. Johan Cervin    1   \n",
      "6          898       3                          Connolly, Miss. Kate    0   \n",
      "7          899       2                  Caldwell, Mr. Albert Francis    1   \n",
      "8          900       3     Abrahim, Mrs. Joseph (Sophie Halaut Easu)    0   \n",
      "9          901       3                       Davies, Mr. John Samuel    1   \n",
      "\n",
      "    Age  SibSp  Parch     Ticket     Fare Cabin Embarked  \n",
      "0  34.5      0      0     330911   7.8292   NaN        Q  \n",
      "1  47.0      1      0     363272   7.0000   NaN        S  \n",
      "2  62.0      0      0     240276   9.6875   NaN        Q  \n",
      "3  27.0      0      0     315154   8.6625   NaN        S  \n",
      "4  22.0      1      1    3101298  12.2875   NaN        S  \n",
      "5  14.0      0      0       7538   9.2250   NaN        S  \n",
      "6  30.0      0      0     330972   7.6292   NaN        Q  \n",
      "7  26.0      1      1     248738  29.0000   NaN        S  \n",
      "8  18.0      0      0       2657   7.2292   NaN        C  \n",
      "9  21.0      2      0  A/4 48871  24.1500   NaN        S  \n"
     ]
    }
   ],
   "source": [
    "test[\"Sex\"] = test[\"Sex\"].map({ 'female': 0, 'male': 1 })\n",
    "test[\"Age\"] = test[\"Age\"].fillna(0)\n",
    "\n",
    "print(test.head(10))"
   ]
  },
  {
   "cell_type": "code",
   "execution_count": 37,
   "metadata": {
    "collapsed": false
   },
   "outputs": [
    {
     "name": "stdout",
     "output_type": "stream",
     "text": [
      "      Survived\n",
      "892          0\n",
      "893          0\n",
      "894          0\n",
      "895          0\n",
      "896          0\n",
      "897          0\n",
      "898          0\n",
      "899          0\n",
      "900          0\n",
      "901          0\n",
      "902          0\n",
      "903          0\n",
      "904          1\n",
      "905          0\n",
      "906          1\n",
      "907          1\n",
      "908          0\n",
      "909          0\n",
      "910          0\n",
      "911          0\n",
      "912          0\n",
      "913          1\n",
      "914          1\n",
      "915          0\n",
      "916          1\n",
      "917          0\n",
      "918          1\n",
      "919          0\n",
      "920          0\n",
      "921          0\n",
      "...        ...\n",
      "1280         0\n",
      "1281         0\n",
      "1282         0\n",
      "1283         1\n",
      "1284         0\n",
      "1285         0\n",
      "1286         0\n",
      "1287         1\n",
      "1288         0\n",
      "1289         1\n",
      "1290         0\n",
      "1291         0\n",
      "1292         1\n",
      "1293         0\n",
      "1294         1\n",
      "1295         1\n",
      "1296         0\n",
      "1297         0\n",
      "1298         0\n",
      "1299         0\n",
      "1300         1\n",
      "1301         1\n",
      "1302         1\n",
      "1303         1\n",
      "1304         0\n",
      "1305         0\n",
      "1306         1\n",
      "1307         0\n",
      "1308         0\n",
      "1309         1\n",
      "\n",
      "[418 rows x 1 columns]\n",
      "(418, 1)\n"
     ]
    }
   ],
   "source": [
    "passenger_ids   = np.array(test[\"PassengerId\"]).astype(int)\n",
    "\n",
    "# which are the same as I used before\n",
    "target_features = test[relevant_features].values\n",
    "prediction      = estimator.predict(target_features)\n",
    "submission      = pd.DataFrame(prediction, passenger_ids, columns = [\"Survived\"])\n",
    "\n",
    "print(submission)\n",
    "print(submission.shape)"
   ]
  },
  {
   "cell_type": "markdown",
   "metadata": {},
   "source": [
    "# TODO\n",
    "\n",
    "- [ ] Write `submission.csv` file\n",
    "- [ ] Use K-Fold cross validation to select a family of models, that are decision trees\n",
    "- [ ] See if possible, use a [Random forest](https://en.wikipedia.org/wiki/Decision_tree_learning#Types)"
   ]
  },
  {
   "cell_type": "code",
   "execution_count": null,
   "metadata": {
    "collapsed": true
   },
   "outputs": [],
   "source": []
  }
 ],
 "metadata": {
  "anaconda-cloud": {},
  "kernelspec": {
   "display_name": "Python [conda root]",
   "language": "python",
   "name": "conda-root-py"
  },
  "language_info": {
   "codemirror_mode": {
    "name": "ipython",
    "version": 2
   },
   "file_extension": ".py",
   "mimetype": "text/x-python",
   "name": "python",
   "nbconvert_exporter": "python",
   "pygments_lexer": "ipython2",
   "version": "2.7.12"
  }
 },
 "nbformat": 4,
 "nbformat_minor": 1
}
